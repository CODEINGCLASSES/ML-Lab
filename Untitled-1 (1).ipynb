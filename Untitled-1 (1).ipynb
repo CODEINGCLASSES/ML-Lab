{
 "cells": [
  {
   "cell_type": "code",
   "execution_count": 2,
   "metadata": {},
   "outputs": [
    {
     "name": "stdout",
     "output_type": "stream",
     "text": [
      "Adjusting for ambient noise, please wait...\n",
      "Microphone is ready, start speaking...\n",
      "Listening...\n",
      "Transcribing in English...\n",
      "You said (in English): hello\n",
      "Translated to Hindi: नमस्ते\n",
      "Transcribing in Hindi...\n",
      "You said (in Hindi): हेलो\n",
      "Translated to English: Hi\n"
     ]
    }
   ],
   "source": [
    "import speech_recognition as sr\n",
    "from googletrans import Translator\n",
    "\n",
    "# Initialize recognizer and translator\n",
    "recognizer = sr.Recognizer()\n",
    "translator = Translator()\n",
    "\n",
    "def recognize_and_translate():\n",
    "    try:\n",
    "        with sr.Microphone() as source:\n",
    "            print(\"Adjusting for ambient noise, please wait...\")\n",
    "            recognizer.adjust_for_ambient_noise(source, duration=3)\n",
    "            print(\"Microphone is ready, start speaking...\")\n",
    "\n",
    "            print(\"Listening...\")\n",
    "            audio = recognizer.listen(source)\n",
    "\n",
    "        try:\n",
    "            print(\"Transcribing in English...\")\n",
    "            text_en = recognizer.recognize_google(audio, language=\"en-US\")\n",
    "            print(f\"You said (in English): {text_en}\")\n",
    "\n",
    "            translated_hindi = translator.translate(text_en, src='en', dest='hi')\n",
    "            print(f\"Translated to Hindi: {translated_hindi.text}\")\n",
    "\n",
    "        except sr.UnknownValueError:\n",
    "            print(\"Sorry, I could not understand the audio in English\")\n",
    "\n",
    "        except sr.RequestError as e:\n",
    "            print(f\"Error from Google Web Speech API; {e}\")\n",
    "\n",
    "        try:\n",
    "            print(\"Transcribing in Hindi...\")\n",
    "            text_hi = recognizer.recognize_google(audio, language=\"hi-IN\")\n",
    "            print(f\"You said (in Hindi): {text_hi}\")\n",
    "\n",
    "            translated_english = translator.translate(text_hi, src='hi', dest='en')\n",
    "            print(f\"Translated to English: {translated_english.text}\")\n",
    "\n",
    "        except sr.UnknownValueError:\n",
    "            print(\"Sorry, I could not understand the audio in Hindi\")\n",
    "\n",
    "        except sr.RequestError as e:\n",
    "            print(f\"Error from Google Web Speech API; {e}\")\n",
    "\n",
    "    except Exception as e:\n",
    "        print(f\"An error occurred: {e}\")\n",
    "\n",
    "# Call the function to start speech recognition and translation\n",
    "recognize_and_translate()"
   ]
  }
 ],
 "metadata": {
  "kernelspec": {
   "display_name": "Python 3",
   "language": "python",
   "name": "python3"
  },
  "language_info": {
   "codemirror_mode": {
    "name": "ipython",
    "version": 3
   },
   "file_extension": ".py",
   "mimetype": "text/x-python",
   "name": "python",
   "nbconvert_exporter": "python",
   "pygments_lexer": "ipython3",
   "version": "3.12.4"
  }
 },
 "nbformat": 4,
 "nbformat_minor": 2
}
